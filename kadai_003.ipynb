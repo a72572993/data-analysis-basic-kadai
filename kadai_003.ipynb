{
  "nbformat": 4,
  "nbformat_minor": 0,
  "metadata": {
    "colab": {
      "provenance": [],
      "authorship_tag": "ABX9TyMN07OPc0b5UZXG4BTcXmGo",
      "include_colab_link": true
    },
    "kernelspec": {
      "name": "python3",
      "display_name": "Python 3"
    },
    "language_info": {
      "name": "python"
    }
  },
  "cells": [
    {
      "cell_type": "markdown",
      "metadata": {
        "id": "view-in-github",
        "colab_type": "text"
      },
      "source": [
        "<a href=\"https://colab.research.google.com/github/a72572993/data-analysis-basic-kadai/blob/main/kadai_003.ipynb\" target=\"_parent\"><img src=\"https://colab.research.google.com/assets/colab-badge.svg\" alt=\"Open In Colab\"/></a>"
      ]
    },
    {
      "cell_type": "code",
      "execution_count": 11,
      "metadata": {
        "colab": {
          "base_uri": "https://localhost:8080/"
        },
        "id": "-rJV8LZtQQpv",
        "outputId": "17bcc17b-3c4b-44ba-c6b4-cea25eeff207"
      },
      "outputs": [
        {
          "output_type": "execute_result",
          "data": {
            "text/plain": [
              "47"
            ]
          },
          "metadata": {},
          "execution_count": 11
        }
      ],
      "source": [
        "#Step1.NumPyをインポートするコードを記述する\n",
        "import numpy as np\n",
        "\n",
        "#Step2.AとBの行列を格納する多次元配列のコードを記述する\n",
        "A = np.array([[0, 1], [2, 3], [4, 5]])\n",
        "B = np.array([[0, 1, 2, 3], [4, 5, 6, 7]])\n",
        "\n",
        "#Step3.行列の積の計算をするコードを記述する\n",
        "C = np.dot(A, B)\n",
        "\n",
        "#Step4.Step3.の計算結果を表示するコードを記述する\n",
        "C\n",
        "\n",
        "#Step5.行列の要素の最大値を求めるコードを記述する\n",
        "C.max()"
      ]
    }
  ]
}