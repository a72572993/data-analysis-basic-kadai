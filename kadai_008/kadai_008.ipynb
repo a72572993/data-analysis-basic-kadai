{
  "nbformat": 4,
  "nbformat_minor": 0,
  "metadata": {
    "colab": {
      "provenance": []
    },
    "kernelspec": {
      "name": "python3",
      "display_name": "Python 3"
    },
    "language_info": {
      "name": "python"
    }
  },
  "cells": [
    {
      "cell_type": "code",
      "execution_count": 1,
      "metadata": {
        "id": "DvXdpIQk5EX2",
        "outputId": "1fa564f4-6962-4452-fda1-c9f22c9009de",
        "colab": {
          "base_uri": "https://localhost:8080/"
        }
      },
      "outputs": [
        {
          "output_type": "execute_result",
          "data": {
            "text/plain": [
              "0.9629629629629629"
            ]
          },
          "metadata": {},
          "execution_count": 1
        }
      ],
      "source": [
        "#1. サンプルデータの取得\n",
        "from sklearn.datasets import load_wine\n",
        "\n",
        "dataset = load_wine()\n",
        "dataset\n",
        "\n",
        "#ワインの成分を表示\n",
        "dataset.data\n",
        "\n",
        "#要素の名称を確認\n",
        "dataset.feature_names\n",
        "\n",
        "#PandasのDataframeを利用して表示\n",
        "import pandas as pd\n",
        "df = pd.DataFrame(data=dataset.data, columns=dataset.feature_names)\n",
        "df.head()\n",
        "\n",
        "#ワインの種別を確認\n",
        "dataset.target\n",
        "\n",
        "#ワインの成分を表示させたDataFrameにワインの種別を追加\n",
        "df['categry'] = dataset.target\n",
        "df.head()\n",
        "\n",
        "#データ数の確認 (表示結果：178, 14 >　14要素（ワインの成分13要素とワインの種別）のデータが178レコード存在することがわかる）\n",
        "df.shape\n",
        "\n",
        "#2. サンプルデータの分割\n",
        "#サンプルデータを学習データとテストデータに分割\n",
        "#説明変数：ワインの成分 : X\n",
        "#目的変数：ワインの種別 : y\n",
        "X = dataset.data\n",
        "y = dataset.target\n",
        "\n",
        "#Xとyをそれぞれ学習データとテストデータに分割\n",
        "from sklearn.model_selection import train_test_split\n",
        "\n",
        "#第1引数に説明変数、第2引数に目的変数をセット\n",
        "#学習データとテストデータの分割比率はtest_size（パラメータ）で調整可能、0.3を指定すると全体の30％のレコードを分配する（学習データ：テストデータ＝7:3が一般的）\n",
        "#random_stateに数値設定すると配分されるレコードを固定できる\n",
        "train_test_split(X, y, test_size=0.3, random_state=5)\n",
        "# 以下のようにrandom_stateを指定しない場合、実行毎に結果が異なります。\n",
        "# >train_test_split(X, y, test_size=0.3)\n",
        "\n",
        "#4つの要素を変数X_train, X_test, y_train, y_testに代入する\n",
        "X_train, X_test, y_train, y_test = train_test_split(X, y, test_size=0.3, random_state=5)\n",
        "\n",
        "\n",
        "#3．予測モデルのインスタンス化\n",
        "#決定木を使用 > 課題で「ランダムフォレスト」に変更\n",
        "##変更前：from sklearn.tree import DecisionTreeClassifier\n",
        "\n",
        "#---【課題】変更後のコード---------------------------------------------\n",
        "from sklearn.ensemble import RandomForestClassifier\n",
        "#----------------------------------------------------------------------\n",
        "\n",
        "#mdoelという変数に代入。random_stateを指定して実行ごとに結果が変わることを避ける\n",
        "##変更前：model = DecisionTreeClassifier(random_state=3)\n",
        "# 以下のようにrandom_stateを指定しない場合、最終的に生成される予測モデルが実行毎に異なる可能性があります。これは、モデルの評価結果や予測結果が実行毎に変わってしまう可能性があること意味します。\n",
        "# >model = DecisionTreeClassifier()\n",
        "\n",
        "#---【課題】変更後のコード---------------------------------------------\n",
        "model = RandomForestClassifier(random_state=3)\n",
        "#----------------------------------------------------------------------\n",
        "\n",
        "#4. 予測モデルの学習\n",
        "#fitメソッドで学習が行われるfitメソッドの第1引数にX_train、第2引数にy_trainを指定\n",
        "model.fit(X_train, y_train)\n",
        "\n",
        "#5. 予測モデルの評価\n",
        "#説明変数X（ワインの成分）のテストデータに基づいてワインの種別を予測した値と、目的変数y（ワインの種別）のテストデータがどれだけマッチしているかが評価ポイント\n",
        "#predictメソッドで説明変数Xのテストデータからワインの種別を予測する予測値はy_predに代入\n",
        "y_pred = model.predict(X_test)\n",
        "y_pred\n",
        "\n",
        "y_test\n",
        "\n",
        "#評価指標として正解率を利用。metricsモジュールのaccuracy_socreを実行\n",
        "#第1引数にy_test、第2引数にy_predをセット\n",
        "from sklearn.metrics import accuracy_score\n",
        "accuracy_score(y_test, y_pred)\n",
        "\n",
        "model.score(X_test, y_test)\n",
        "\n",
        "\n"
      ]
    }
  ]
}